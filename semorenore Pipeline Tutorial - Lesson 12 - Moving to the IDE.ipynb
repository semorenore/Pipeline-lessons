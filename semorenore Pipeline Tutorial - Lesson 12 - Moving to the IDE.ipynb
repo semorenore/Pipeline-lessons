{
  "nbformat": 4,
  "nbformat_minor": 0,
  "metadata": {
    "colab": {
      "name": "Untitled0.ipynb",
      "provenance": []
    },
    "kernelspec": {
      "name": "python3",
      "display_name": "Python 3"
    }
  },
  "cells": [
    {
      "cell_type": "markdown",
      "metadata": {
        "id": "5c_bjdwuGByy",
        "colab_type": "text"
      },
      "source": [
        "#Moving to the IDE\n",
        "So far, we have created and run a pipeline in research. Now, let's move to the IDE. To start out, let's create a skeleton algorithm, import Pipeline, and add a make_pipeline function to it that creates an empty pipeline."
      ]
    },
    {
      "cell_type": "code",
      "metadata": {
        "id": "D8YwQf6ZrMJW",
        "colab_type": "code",
        "colab": {
          "base_uri": "https://localhost:8080/",
          "height": 367
        },
        "outputId": "978bbbaa-2859-4b89-8e7e-44c1844e9cfa"
      },
      "source": [
        "from quantopian.pipeline import Pipeline\n",
        "\n",
        "def initialize(context):\n",
        "    my_pipe = make_pipeline()\n",
        "\n",
        "def make_pipeline():\n",
        "    return Pipeline()"
      ],
      "execution_count": 2,
      "outputs": [
        {
          "output_type": "error",
          "ename": "ModuleNotFoundError",
          "evalue": "ignored",
          "traceback": [
            "\u001b[0;31m---------------------------------------------------------------------------\u001b[0m",
            "\u001b[0;31mModuleNotFoundError\u001b[0m                       Traceback (most recent call last)",
            "\u001b[0;32m<ipython-input-2-d55073163c44>\u001b[0m in \u001b[0;36m<module>\u001b[0;34m()\u001b[0m\n\u001b[0;32m----> 1\u001b[0;31m \u001b[0;32mfrom\u001b[0m \u001b[0mquantopian\u001b[0m\u001b[0;34m.\u001b[0m\u001b[0mpipeline\u001b[0m \u001b[0;32mimport\u001b[0m \u001b[0mPipeline\u001b[0m\u001b[0;34m\u001b[0m\u001b[0;34m\u001b[0m\u001b[0m\n\u001b[0m\u001b[1;32m      2\u001b[0m \u001b[0;34m\u001b[0m\u001b[0m\n\u001b[1;32m      3\u001b[0m \u001b[0;32mdef\u001b[0m \u001b[0minitialize\u001b[0m\u001b[0;34m(\u001b[0m\u001b[0mcontext\u001b[0m\u001b[0;34m)\u001b[0m\u001b[0;34m:\u001b[0m\u001b[0;34m\u001b[0m\u001b[0;34m\u001b[0m\u001b[0m\n\u001b[1;32m      4\u001b[0m     \u001b[0mmy_pipe\u001b[0m \u001b[0;34m=\u001b[0m \u001b[0mmake_pipeline\u001b[0m\u001b[0;34m(\u001b[0m\u001b[0;34m)\u001b[0m\u001b[0;34m\u001b[0m\u001b[0;34m\u001b[0m\u001b[0m\n\u001b[1;32m      5\u001b[0m \u001b[0;34m\u001b[0m\u001b[0m\n",
            "\u001b[0;31mModuleNotFoundError\u001b[0m: No module named 'quantopian'",
            "",
            "\u001b[0;31m---------------------------------------------------------------------------\u001b[0;32m\nNOTE: If your import is failing due to a missing package, you can\nmanually install dependencies using either !pip or !apt.\n\nTo view examples of installing some common dependencies, click the\n\"Open Examples\" button below.\n\u001b[0;31m---------------------------------------------------------------------------\u001b[0m\n"
          ]
        }
      ]
    },
    {
      "cell_type": "markdown",
      "metadata": {
        "id": "cRjFE9DbrOcy",
        "colab_type": "text"
      },
      "source": [
        "#Attaching a Pipeline\n",
        "Recall that in research, we ran `make_pipeline` to create an instance of our pipeline object and we used `run_pipeline` to run our pipeline over a specified date range. We cannot safely do this in an algorithm, we have to somehow allow the simulation to run our pipeline for us. In order for the simulation to run our pipeline, we must attach our pipeline with `attach_pipeline`.\n",
        "\n",
        "The `attach_pipeline` function requires two arguments: a reference to our `Pipeline` object, and a `string` name for the pipeline which can be decided arbitrarily. Let's import `attach_pipeline` and attach our empty pipeline in our skeleton example."
      ]
    },
    {
      "cell_type": "code",
      "metadata": {
        "id": "mZFW6PJZrniu",
        "colab_type": "code",
        "colab": {
          "base_uri": "https://localhost:8080/",
          "height": 367
        },
        "outputId": "24adbc76-2d5a-4750-f6c0-35bafc7e1e86"
      },
      "source": [
        "import quantopian.algorithm as algo\n",
        "from quantopian.pipeline import Pipeline\n",
        "\n",
        "def initialize(context):\n",
        "    my_pipe = make_pipeline()\n",
        "    algo.attach_pipeline(my_pipe, 'my_pipeline')\n",
        "\n",
        "def make_pipeline():\n",
        "    return Pipeline()"
      ],
      "execution_count": 3,
      "outputs": [
        {
          "output_type": "error",
          "ename": "ModuleNotFoundError",
          "evalue": "ignored",
          "traceback": [
            "\u001b[0;31m---------------------------------------------------------------------------\u001b[0m",
            "\u001b[0;31mModuleNotFoundError\u001b[0m                       Traceback (most recent call last)",
            "\u001b[0;32m<ipython-input-3-eb822016e19e>\u001b[0m in \u001b[0;36m<module>\u001b[0;34m()\u001b[0m\n\u001b[0;32m----> 1\u001b[0;31m \u001b[0;32mimport\u001b[0m \u001b[0mquantopian\u001b[0m\u001b[0;34m.\u001b[0m\u001b[0malgorithm\u001b[0m \u001b[0;32mas\u001b[0m \u001b[0malgo\u001b[0m\u001b[0;34m\u001b[0m\u001b[0;34m\u001b[0m\u001b[0m\n\u001b[0m\u001b[1;32m      2\u001b[0m \u001b[0;32mfrom\u001b[0m \u001b[0mquantopian\u001b[0m\u001b[0;34m.\u001b[0m\u001b[0mpipeline\u001b[0m \u001b[0;32mimport\u001b[0m \u001b[0mPipeline\u001b[0m\u001b[0;34m\u001b[0m\u001b[0;34m\u001b[0m\u001b[0m\n\u001b[1;32m      3\u001b[0m \u001b[0;34m\u001b[0m\u001b[0m\n\u001b[1;32m      4\u001b[0m \u001b[0;32mdef\u001b[0m \u001b[0minitialize\u001b[0m\u001b[0;34m(\u001b[0m\u001b[0mcontext\u001b[0m\u001b[0;34m)\u001b[0m\u001b[0;34m:\u001b[0m\u001b[0;34m\u001b[0m\u001b[0;34m\u001b[0m\u001b[0m\n\u001b[1;32m      5\u001b[0m     \u001b[0mmy_pipe\u001b[0m \u001b[0;34m=\u001b[0m \u001b[0mmake_pipeline\u001b[0m\u001b[0;34m(\u001b[0m\u001b[0;34m)\u001b[0m\u001b[0;34m\u001b[0m\u001b[0;34m\u001b[0m\u001b[0m\n",
            "\u001b[0;31mModuleNotFoundError\u001b[0m: No module named 'quantopian'",
            "",
            "\u001b[0;31m---------------------------------------------------------------------------\u001b[0;32m\nNOTE: If your import is failing due to a missing package, you can\nmanually install dependencies using either !pip or !apt.\n\nTo view examples of installing some common dependencies, click the\n\"Open Examples\" button below.\n\u001b[0;31m---------------------------------------------------------------------------\u001b[0m\n"
          ]
        }
      ]
    },
    {
      "cell_type": "markdown",
      "metadata": {
        "id": "THUWvjq3rnHO",
        "colab_type": "text"
      },
      "source": [
        "Now that our pipeline is attached, it will be run once each day of the simulation. If an algorithm is backtested or live traded from Monday, June 6, 2016 to Friday, Jun 10, 2016, our pipeline will be run once on each day of the week (5 times total). Attaching our pipeline will produce a new output dataframe each day. The daily output is similar to the output of run_pipeline in research. However, the output dataframe in our algorithm will not include the date in the index, as the current simulation date is implied to be the date of our pipeline computations.\n",
        "\n",
        "#Pipeline Output\n",
        "\n",
        "The daily output of our pipeline can be retrieved using pipeline_output in before_trading_start. pipeline_output requires the name of the attached pipeline as an argument and returns the output dataframe for the current date in the simulation. Let's import pipeline_output and modify our skeleton example to store our pipeline output in context each day."
      ]
    },
    {
      "cell_type": "code",
      "metadata": {
        "id": "UiOX0u6oruI4",
        "colab_type": "code",
        "colab": {}
      },
      "source": [
        "import quantopian.algorithm as algo\n",
        "from quantopian.pipeline import Pipeline\n",
        "\n",
        "def initialize(context):\n",
        "    my_pipe = make_pipeline()\n",
        "    algo.attach_pipeline(my_pipe, 'my_pipeline')\n",
        "\n",
        "def make_pipeline():\n",
        "    return Pipeline()\n",
        "\n",
        "def before_trading_start(context, data):\n",
        "    # Store our pipeline output DataFrame in context.\n",
        "    context.output = algo.pipeline_output('my_pipeline')"
      ],
      "execution_count": 0,
      "outputs": []
    },
    {
      "cell_type": "markdown",
      "metadata": {
        "id": "SC0NAzydrwnC",
        "colab_type": "text"
      },
      "source": [
        "Our skeleton example now produces an empy dataframe with 8000+ rows and 0 columns each day. The output dataframe will look like this (note that the index is no longer a MultiIndex as it was in research):"
      ]
    },
    {
      "cell_type": "markdown",
      "metadata": {
        "id": "r0mysKgvr-iO",
        "colab_type": "text"
      },
      "source": [
        "#Using Our Pipeline From Research\n",
        "\n",
        "To include the pipeline that we created in the previous lesson in our algorithm, we can simply copy the make_pipeline function that we wrote in research to our algorithm as well as the required import statements. The following will run our pipeline and store the output dataframe with 150 rows and 2 columns (longs and shorts) in context each day."
      ]
    },
    {
      "cell_type": "code",
      "metadata": {
        "id": "CwyibqyrsBX9",
        "colab_type": "code",
        "colab": {}
      },
      "source": [
        "import quantopian.algorithm as algo\n",
        "from quantopian.pipeline import Pipeline\n",
        "from quantopian.pipeline.data.builtin import USEquityPricing\n",
        "from quantopian.pipeline.factors import SimpleMovingAverage\n",
        "from quantopian.pipeline.filters import QTradableStocksUS\n",
        "\n",
        "def initialize(context):\n",
        "    my_pipe = make_pipeline()\n",
        "    algo.attach_pipeline(my_pipe, 'my_pipeline')\n",
        "\n",
        "def make_pipeline():\n",
        "    \"\"\"\n",
        "    Create our pipeline.\n",
        "    \"\"\"\n",
        "\n",
        "    # Base universe set to the QTradableStocksUS.\n",
        "    base_universe = QTradableStocksUS()\n",
        "\n",
        "    # 10-day close price average.\n",
        "    mean_10 = SimpleMovingAverage(\n",
        "        inputs=[USEquityPricing.close],\n",
        "        window_length=10,\n",
        "        mask=base_universe\n",
        "    )\n",
        "\n",
        "    # 30-day close price average.\n",
        "    mean_30 = SimpleMovingAverage(\n",
        "        inputs=[USEquityPricing.close],\n",
        "        window_length=30,\n",
        "        mask=base_universe\n",
        "    )\n",
        "\n",
        "    percent_difference = (mean_10 - mean_30) / mean_30\n",
        "\n",
        "    # Filter to select securities to short.\n",
        "    shorts = percent_difference.top(75)\n",
        "\n",
        "    # Filter to select securities to long.\n",
        "    longs = percent_difference.bottom(75)\n",
        "\n",
        "    # Filter for all securities that we want to trade.\n",
        "    securities_to_trade = (shorts | longs)\n",
        "\n",
        "    return Pipeline(\n",
        "        columns={\n",
        "            'longs': longs,\n",
        "            'shorts': shorts\n",
        "        },\n",
        "        screen=(securities_to_trade),\n",
        "    )\n",
        "\n",
        "def before_trading_start(context, data):\n",
        "    # Store our pipeline output DataFrame in context\n",
        "    context.output = algo.pipeline_output('my_pipeline')\n",
        "The output from this pipeline will look something like this every day:\n",
        "\n",
        "We can then define some functions to compute target weights and place orders for our long and short positions as specified by our pipeline output. Let's use some of the basics that we learned in the Getting Started Tutorial to implement weight calculations and ordering.\n",
        "def compute_target_weights(context, data):\n",
        "    \"\"\"\n",
        "    Compute ordering weights.\n",
        "    \"\"\"\n",
        "\n",
        "    # Initialize empty target weights dictionary.\n",
        "    # This will map securities to their target weight.\n",
        "    weights = {}\n",
        "\n",
        "    # If there are securities in our longs and shorts lists,\n",
        "    # compute even target weights for each security.\n",
        "    if context.longs and context.shorts:\n",
        "        long_weight = 0.5 / len(context.longs)\n",
        "        short_weight = -0.5 / len(context.shorts)\n",
        "    else:\n",
        "        return weights\n",
        "\n",
        "    # Exit positions in our portfolio if they are not\n",
        "    # in our longs or shorts lists.\n",
        "    for security in context.portfolio.positions:\n",
        "        if security not in context.longs and security not in context.shorts and data.can_trade(security):\n",
        "            weights[security] = 0\n",
        "\n",
        "    for security in context.longs:\n",
        "        weights[security] = long_weight\n",
        "\n",
        "    for security in context.shorts:\n",
        "        weights[security] = short_weight\n",
        "\n",
        "    return weights\n",
        "\n",
        "def before_trading_start(context, data):\n",
        "    \"\"\"\n",
        "    Get pipeline results.\n",
        "    \"\"\"\n",
        "\n",
        "    # Gets our pipeline output every day.\n",
        "    pipe_results = algo.pipeline_output('my_pipeline')\n",
        "\n",
        "    # Go long in securities for which the 'longs' value is True,\n",
        "    # and check if they can be traded.\n",
        "    context.longs = []\n",
        "    for sec in pipe_results[pipe_results['longs']].index.tolist():\n",
        "        if data.can_trade(sec):\n",
        "            context.longs.append(sec)\n",
        "\n",
        "    # Go short in securities for which the 'shorts' value is True,\n",
        "    # and check if they can be traded.\n",
        "    context.shorts = []\n",
        "    for sec in pipe_results[pipe_results['shorts']].index.tolist():\n",
        "        if data.can_trade(sec):\n",
        "            context.shorts.append(sec)\n",
        "\n",
        "def my_rebalance(context, data):\n",
        "    \"\"\"\n",
        "    Rebalance weekly.\n",
        "    \"\"\"\n",
        "\n",
        "    # Calculate target weights to rebalance\n",
        "    target_weights = compute_target_weights(context, data)\n",
        "\n",
        "    # If we have target weights, rebalance our portfolio\n",
        "    if target_weights:\n",
        "        algo.order_optimal_portfolio(\n",
        "            objective=opt.TargetWeights(target_weights),\n",
        "            constraints=[],\n",
        "        )"
      ],
      "execution_count": 0,
      "outputs": []
    },
    {
      "cell_type": "markdown",
      "metadata": {
        "id": "x4dQ7kb_sLMq",
        "colab_type": "text"
      },
      "source": [
        "Finally, let's put everything together. We'll specify our algorithm to rebalance weekly."
      ]
    },
    {
      "cell_type": "code",
      "metadata": {
        "id": "bSmqzMxtsRRm",
        "colab_type": "code",
        "colab": {}
      },
      "source": [
        "from quantopian.algorithm import order_optimal_portfolio\n",
        "from quantopian.algorithm import attach_pipeline, pipeline_output\n",
        "from quantopian.pipeline import Pipeline\n",
        "from quantopian.pipeline.data.builtin import USEquityPricing\n",
        "from quantopian.pipeline.factors import SimpleMovingAverage\n",
        "from quantopian.pipeline.filters import QTradableStocksUS\n",
        "import quantopian.optimize as opt\n",
        "\n",
        "def initialize(context):\n",
        "    # Schedule our rebalance function to run at the start of\n",
        "    # each week, when the market opens.\n",
        "    schedule_function(\n",
        "        my_rebalance,\n",
        "        date_rules.week_start(),\n",
        "        time_rules.market_open()\n",
        "    )\n",
        "\n",
        "    # Create our pipeline and attach it to our algorithm.\n",
        "    my_pipe = make_pipeline()\n",
        "    attach_pipeline(my_pipe, 'my_pipeline')\n",
        "\n",
        "def make_pipeline():\n",
        "    \"\"\"\n",
        "    Create our pipeline.\n",
        "    \"\"\"\n",
        "\n",
        "    # Base universe set to the QTradableStocksUS.\n",
        "    base_universe = QTradableStocksUS()\n",
        "\n",
        "    # 10-day close price average.\n",
        "    mean_10 = SimpleMovingAverage(\n",
        "        inputs=[USEquityPricing.close],\n",
        "        window_length=10,\n",
        "        mask=base_universe\n",
        "    )\n",
        "\n",
        "    # 30-day close price average.\n",
        "    mean_30 = SimpleMovingAverage(\n",
        "        inputs=[USEquityPricing.close],\n",
        "        window_length=30,\n",
        "        mask=base_universe\n",
        "    )\n",
        "\n",
        "    percent_difference = (mean_10 - mean_30) / mean_30\n",
        "\n",
        "    # Filter to select securities to short.\n",
        "    shorts = percent_difference.top(75)\n",
        "\n",
        "    # Filter to select securities to long.\n",
        "    longs = percent_difference.bottom(75)\n",
        "\n",
        "    # Filter for all securities that we want to trade.\n",
        "    securities_to_trade = (shorts | longs)\n",
        "\n",
        "    return Pipeline(\n",
        "        columns={\n",
        "            'longs': longs,\n",
        "            'shorts': shorts\n",
        "        },\n",
        "        screen=(securities_to_trade),\n",
        "    )\n",
        "\n",
        "def compute_target_weights(context, data):\n",
        "    \"\"\"\n",
        "    Compute ordering weights.\n",
        "    \"\"\"\n",
        "\n",
        "    # Initialize empty target weights dictionary.\n",
        "    # This will map securities to their target weight.\n",
        "    weights = {}\n",
        "\n",
        "    # If there are securities in our longs and shorts lists,\n",
        "    # compute even target weights for each security.\n",
        "    if context.longs and context.shorts:\n",
        "        long_weight = 0.5 / len(context.longs)\n",
        "        short_weight = -0.5 / len(context.shorts)\n",
        "    else:\n",
        "        return weights\n",
        "\n",
        "    # Exit positions in our portfolio if they are not\n",
        "    # in our longs or shorts lists.\n",
        "    for security in context.portfolio.positions:\n",
        "        if security not in context.longs and security not in context.shorts and data.can_trade(security):\n",
        "            weights[security] = 0\n",
        "\n",
        "    for security in context.longs:\n",
        "        weights[security] = long_weight\n",
        "\n",
        "    for security in context.shorts:\n",
        "        weights[security] = short_weight\n",
        "\n",
        "    return weights\n",
        "\n",
        "def before_trading_start(context, data):\n",
        "    \"\"\"\n",
        "    Get pipeline results.\n",
        "    \"\"\"\n",
        "\n",
        "    # Gets our pipeline output every day.\n",
        "    pipe_results = pipeline_output('my_pipeline')\n",
        "\n",
        "    # Go long in securities for which the 'longs' value is True,\n",
        "    # and check if they can be traded.\n",
        "    context.longs = []\n",
        "    for sec in pipe_results[pipe_results['longs']].index.tolist():\n",
        "        if data.can_trade(sec):\n",
        "            context.longs.append(sec)\n",
        "\n",
        "    # Go short in securities for which the 'shorts' value is True,\n",
        "    # and check if they can be traded.\n",
        "    context.shorts = []\n",
        "    for sec in pipe_results[pipe_results['shorts']].index.tolist():\n",
        "        if data.can_trade(sec):\n",
        "            context.shorts.append(sec)\n",
        "\n",
        "def my_rebalance(context, data):\n",
        "    \"\"\"\n",
        "    Rebalance weekly.\n",
        "    \"\"\"\n",
        "\n",
        "    # Calculate target weights to rebalance\n",
        "    target_weights = compute_target_weights(context, data)\n",
        "\n",
        "    # If we have target weights, rebalance our portfolio\n",
        "    if target_weights:\n",
        "        order_optimal_portfolio(\n",
        "            objective=opt.TargetWeights(target_weights),\n",
        "            constraints=[],\n",
        "        )"
      ],
      "execution_count": 0,
      "outputs": []
    },
    {
      "cell_type": "markdown",
      "metadata": {
        "id": "_DbEsvqtsTkt",
        "colab_type": "text"
      },
      "source": [
        "*Note: When a pipeline is run in a backtest, the computations are performed in batches to increase overall computation speed. Because the computations are performed in batches, the performance chart will appear to pause periodically.*"
      ]
    }
  ]
}